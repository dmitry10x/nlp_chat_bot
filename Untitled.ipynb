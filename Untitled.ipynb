{
 "cells": [
  {
   "cell_type": "code",
   "execution_count": 46,
   "metadata": {},
   "outputs": [],
   "source": [
    "import pandas as pd\n",
    "\n",
    "questions_df = pd.read_csv('questions.csv', sep=';', names=['term_id','question'])"
   ]
  },
  {
   "cell_type": "code",
   "execution_count": 38,
   "metadata": {},
   "outputs": [
    {
     "data": {
      "text/html": [
       "<div>\n",
       "<style scoped>\n",
       "    .dataframe tbody tr th:only-of-type {\n",
       "        vertical-align: middle;\n",
       "    }\n",
       "\n",
       "    .dataframe tbody tr th {\n",
       "        vertical-align: top;\n",
       "    }\n",
       "\n",
       "    .dataframe thead th {\n",
       "        text-align: right;\n",
       "    }\n",
       "</style>\n",
       "<table border=\"1\" class=\"dataframe\">\n",
       "  <thead>\n",
       "    <tr style=\"text-align: right;\">\n",
       "      <th></th>\n",
       "      <th>term_id</th>\n",
       "      <th>question</th>\n",
       "    </tr>\n",
       "  </thead>\n",
       "  <tbody>\n",
       "    <tr>\n",
       "      <th>0</th>\n",
       "      <td>3</td>\n",
       "      <td>Что такое диферсификация</td>\n",
       "    </tr>\n",
       "    <tr>\n",
       "      <th>1</th>\n",
       "      <td>3</td>\n",
       "      <td>Как диверсифицировать портфель</td>\n",
       "    </tr>\n",
       "    <tr>\n",
       "      <th>2</th>\n",
       "      <td>3</td>\n",
       "      <td>диферсификация портфеля</td>\n",
       "    </tr>\n",
       "    <tr>\n",
       "      <th>3</th>\n",
       "      <td>11</td>\n",
       "      <td>Что такое ETF?</td>\n",
       "    </tr>\n",
       "    <tr>\n",
       "      <th>4</th>\n",
       "      <td>11</td>\n",
       "      <td>Как заработать на ETF</td>\n",
       "    </tr>\n",
       "  </tbody>\n",
       "</table>\n",
       "</div>"
      ],
      "text/plain": [
       "   term_id                        question\n",
       "0        3        Что такое диферсификация\n",
       "1        3  Как диверсифицировать портфель\n",
       "2        3         диферсификация портфеля\n",
       "3       11                 Что такое ETF? \n",
       "4       11           Как заработать на ETF"
      ]
     },
     "execution_count": 38,
     "metadata": {},
     "output_type": "execute_result"
    }
   ],
   "source": [
    "questions_df.head()"
   ]
  },
  {
   "cell_type": "code",
   "execution_count": 53,
   "metadata": {},
   "outputs": [
    {
     "name": "stdout",
     "output_type": "stream",
     "text": [
      "['Что такое диферсификация', 'Как диверсифицировать портфель', 'диферсификация портфеля', 'Что такое ETF? ', 'Как заработать на ETF', 'Что такое ЕТФ', 'заработок на ЕТФ', 'биржевой инвестиционный фонд', 'что такое биржевой инвестиционный фонд', 'голубые фишки', 'что такое голубие фишки', 'голубые фишки в инвестициях', 'голубые фишки на фондовом рынке']\n"
     ]
    }
   ],
   "source": [
    "all_questions = []\n",
    "for index, row in questions_df.iterrows():\n",
    "    all_questions.append(row[\"question\"])\n",
    "\n",
    "print(all_questions)\n"
   ]
  },
  {
   "cell_type": "code",
   "execution_count": 58,
   "metadata": {},
   "outputs": [],
   "source": [
    "import nltk, re"
   ]
  },
  {
   "cell_type": "code",
   "execution_count": 74,
   "metadata": {},
   "outputs": [],
   "source": [
    "corpus = nltk.sent_tokenize('я сижу на самоизоляции!')"
   ]
  },
  {
   "cell_type": "code",
   "execution_count": 75,
   "metadata": {},
   "outputs": [
    {
     "data": {
      "text/plain": [
       "['я сижу на самоизоляции!']"
      ]
     },
     "execution_count": 75,
     "metadata": {},
     "output_type": "execute_result"
    }
   ],
   "source": [
    "corpus"
   ]
  },
  {
   "cell_type": "code",
   "execution_count": 70,
   "metadata": {},
   "outputs": [],
   "source": [
    "for i in range(len(all_questions)):\n",
    "    all_questions[i] = all_questions[i].lower()\n",
    "    all_questions[i] = re.sub(r'\\W',' ',all_questions[i])\n",
    "    all_questions[i] = re.sub(r'\\s+',' ',all_questions[i])"
   ]
  },
  {
   "cell_type": "code",
   "execution_count": 71,
   "metadata": {},
   "outputs": [
    {
     "data": {
      "text/plain": [
       "['что такое диферсификация',\n",
       " 'как диверсифицировать портфель',\n",
       " 'диферсификация портфеля',\n",
       " 'что такое etf ',\n",
       " 'как заработать на etf',\n",
       " 'что такое етф',\n",
       " 'заработок на етф',\n",
       " 'биржевой инвестиционный фонд',\n",
       " 'что такое биржевой инвестиционный фонд',\n",
       " 'голубые фишки',\n",
       " 'что такое голубие фишки',\n",
       " 'голубые фишки в инвестициях',\n",
       " 'голубые фишки на фондовом рынке']"
      ]
     },
     "execution_count": 71,
     "metadata": {},
     "output_type": "execute_result"
    }
   ],
   "source": [
    "all_questions"
   ]
  },
  {
   "cell_type": "code",
   "execution_count": 72,
   "metadata": {},
   "outputs": [],
   "source": [
    "all_words = set()\n",
    "for sentence in all_questions:\n",
    "    tokens = nltk.word_tokenize(sentence)\n",
    "    for token in tokens:\n",
    "        all_words.add(token)\n"
   ]
  },
  {
   "cell_type": "code",
   "execution_count": 73,
   "metadata": {},
   "outputs": [
    {
     "data": {
      "text/plain": [
       "{'etf',\n",
       " 'биржевой',\n",
       " 'в',\n",
       " 'голубие',\n",
       " 'голубые',\n",
       " 'диверсифицировать',\n",
       " 'диферсификация',\n",
       " 'етф',\n",
       " 'заработать',\n",
       " 'заработок',\n",
       " 'инвестиционный',\n",
       " 'инвестициях',\n",
       " 'как',\n",
       " 'на',\n",
       " 'портфель',\n",
       " 'портфеля',\n",
       " 'рынке',\n",
       " 'такое',\n",
       " 'фишки',\n",
       " 'фонд',\n",
       " 'фондовом',\n",
       " 'что'}"
      ]
     },
     "execution_count": 73,
     "metadata": {},
     "output_type": "execute_result"
    }
   ],
   "source": [
    "all_words"
   ]
  },
  {
   "cell_type": "code",
   "execution_count": null,
   "metadata": {},
   "outputs": [],
   "source": []
  }
 ],
 "metadata": {
  "kernelspec": {
   "display_name": "Python 3",
   "language": "python",
   "name": "python3"
  },
  "language_info": {
   "codemirror_mode": {
    "name": "ipython",
    "version": 3
   },
   "file_extension": ".py",
   "mimetype": "text/x-python",
   "name": "python",
   "nbconvert_exporter": "python",
   "pygments_lexer": "ipython3",
   "version": "3.7.3"
  }
 },
 "nbformat": 4,
 "nbformat_minor": 2
}
